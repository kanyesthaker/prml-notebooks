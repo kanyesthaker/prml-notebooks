{
 "cells": [
  {
   "cell_type": "markdown",
   "id": "7e0eea84",
   "metadata": {},
   "source": [
    "# Sampling\n",
    "\n",
    "This notebook discusses sampling, from chapter 11 of Bishop's Pattern Recognition and Machine Learning.\n",
    "\n",
    "Sampling from $Uniform[0, 1]$ is easy (using a pseudo-random number generator). Before we discuss complex distributions, we must bridge the gap -- how do we sample from simple (nonuniform) distributions?\n",
    "\n",
    "Inverse transform sampling allows us to sample from a distribution through the following steps:\n",
    "1) Take a nonuniform distribution $p(y) = p(z)\\left|\\frac{dz}{dy}\\right|$ where $z$ is uniformly distributed on $[0, 1]$, and $y = f(z)$\n",
    "\n",
    "2) Find the cumulative density function $z = h(y) = \\int_{-\\infty}^y p(\\widehat{y})\\text{d}\\widehat{y}$ to get a function mapping $Dom(p(y)) \\mapsto [0, 1]$\n",
    "\n",
    "3) Invert the cumulative density function $y = h^{-1}(z)$ to get a function mapping $[0, 1] \\mapsto Dom(p(y))$\n",
    "\n",
    "4) Generate samples from Uniform[0, 1] and pass them through $h^{-1}(z)$, which will then be distributed according to $p(y)$"
   ]
  },
  {
   "cell_type": "code",
   "execution_count": 1,
   "id": "db70b0e2",
   "metadata": {},
   "outputs": [],
   "source": [
    "import numpy as np\n",
    "import matplotlib.pyplot as plt\n",
    "import seaborn as sns\n",
    "import pandas as pd"
   ]
  },
  {
   "cell_type": "markdown",
   "id": "96650aca",
   "metadata": {},
   "source": [
    "For example, let's take\n",
    "$$p(y) = \\lambda \\exp(-\\lambda y).$$\n",
    "Here, the indefinite integral (whose lower limit is now 0 instead of $-\\infty$) is\n",
    "$$h(y) = 1-\\exp(-\\lambda y)$$\n",
    "and then pass $z \\sim Uniform[0, 1]$ through $h^{-1}$:\n",
    "$$y = -\\lambda^{-1}\\ln(1-z)$$"
   ]
  },
  {
   "cell_type": "code",
   "execution_count": 25,
   "id": "5191ff9c",
   "metadata": {},
   "outputs": [],
   "source": [
    "p = lambda y, l: l*np.exp(-l*y)\n",
    "h = lambda y, l: 1-np.exp(-l*y)\n",
    "y = lambda z, l: -1/l * np.log(1-z)"
   ]
  },
  {
   "cell_type": "code",
   "execution_count": 86,
   "id": "12e91b9f",
   "metadata": {},
   "outputs": [
    {
     "name": "stderr",
     "output_type": "stream",
     "text": [
      "/Users/kanyesthaker/Documents/projects/prml-notebooks/.env/lib/python3.9/site-packages/seaborn/_decorators.py:36: FutureWarning: Pass the following variables as keyword args: x, y. From version 0.12, the only valid positional argument will be `data`, and passing other arguments without an explicit keyword will result in an error or misinterpretation.\n",
      "  warnings.warn(\n"
     ]
    },
    {
     "data": {
      "text/plain": [
       "<AxesSubplot:title={'center':'Samples drawn from inverse transform'}, ylabel='Samples'>"
      ]
     },
     "execution_count": 86,
     "metadata": {},
     "output_type": "execute_result"
    },
    {
     "data": {
      "image/png": "[encoded data removed]",
      "text/plain": [
       "<Figure size 432x288 with 1 Axes>"
      ]
     },
     "metadata": {
      "needs_background": "light"
     },
     "output_type": "display_data"
    }
   ],
   "source": [
    "xs = np.linspace(0, 5)\n",
    "ys = [p(x, 1) for x in xs]\n",
    "zs = np.random.uniform(0, 1, 10000)\n",
    "samples = [y(z, 1) for z in zs]\n",
    "plt.ylabel(\"Samples\")\n",
    "plt.title(\"Samples drawn from inverse transform\")\n",
    "sns.lineplot(xs, [y*1000 for y in ys], color=\"orange\", linewidth=3)\n",
    "sns.histplot(data=sorted(samples), bins=90)"
   ]
  },
  {
   "cell_type": "markdown",
   "id": "b73cc248",
   "metadata": {},
   "source": [
    "To sample from the Gaussian distribution, we use the Box-Muller method since the Gaussian inverse CDF is not well-defined. To do this, we uniformly select samples from a unit circle, after which we transform those samples (in polar form) to get our desired standard normal PDF."
   ]
  },
  {
   "cell_type": "code",
   "execution_count": 87,
   "id": "843a4f9b",
   "metadata": {},
   "outputs": [
    {
     "data": {
      "text/plain": [
       "<AxesSubplot:ylabel='Count'>"
      ]
     },
     "execution_count": 87,
     "metadata": {},
     "output_type": "execute_result"
    },
    {
     "data": {
      "image/png": "[encoded data removed]",
      "text/plain": [
       "<Figure size 432x288 with 1 Axes>"
      ]
     },
     "metadata": {
      "needs_background": "light"
     },
     "output_type": "display_data"
    }
   ],
   "source": [
    "u1 = np.random.uniform(0, 1, 10000)\n",
    "u2 = np.random.uniform(0, 1, 10000)\n",
    "r2 = -2 * np.log(u1)\n",
    "theta = 2 * np.pi * u2\n",
    "z1 = np.sqrt(r2) * np.cos(theta)\n",
    "z2 = np.sqrt(r2) * np.sin(theta)\n",
    "\n",
    "sns.histplot(z1)\n",
    "sns.histplot(z2, color=\"orange\")"
   ]
  },
  {
   "cell_type": "code",
   "execution_count": null,
   "id": "7d191c66",
   "metadata": {},
   "outputs": [],
   "source": []
  }
 ],
 "metadata": {
  "kernelspec": {
   "display_name": "Python 3 (ipykernel)",
   "language": "python",
   "name": "python3"
  },
  "language_info": {
   "codemirror_mode": {
    "name": "ipython",
    "version": 3
   },
   "file_extension": ".py",
   "mimetype": "text/x-python",
   "name": "python",
   "nbconvert_exporter": "python",
   "pygments_lexer": "ipython3",
   "version": "3.9.8"
  }
 },
 "nbformat": 4,
 "nbformat_minor": 5
}
